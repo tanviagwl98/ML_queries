{
  "nbformat": 4,
  "nbformat_minor": 0,
  "metadata": {
    "colab": {
      "name": "LannetTask.ipynb",
      "provenance": [],
      "authorship_tag": "ABX9TyOOzgGn+J+CJ3wHEDJ5LXYy",
      "include_colab_link": true
    },
    "kernelspec": {
      "name": "python3",
      "display_name": "Python 3"
    }
  },
  "cells": [
    {
      "cell_type": "markdown",
      "metadata": {
        "id": "view-in-github",
        "colab_type": "text"
      },
      "source": [
        "<a href=\"https://colab.research.google.com/github/tanviagwl98/ML_queries/blob/master/LannetTask.ipynb\" target=\"_parent\"><img src=\"https://colab.research.google.com/assets/colab-badge.svg\" alt=\"Open In Colab\"/></a>"
      ]
    },
    {
      "cell_type": "code",
      "metadata": {
        "id": "3pUIYDBfw0Ei",
        "colab_type": "code",
        "colab": {}
      },
      "source": [
        "import pandas as pd\n",
        "import numpy as np"
      ],
      "execution_count": 1,
      "outputs": []
    },
    {
      "cell_type": "code",
      "metadata": {
        "id": "MGKqb5nG2a0h",
        "colab_type": "code",
        "colab": {
          "base_uri": "https://localhost:8080/",
          "height": 122
        },
        "outputId": "1976e1d4-2fa0-462e-afd9-032c7c5e6d7c"
      },
      "source": [
        "from google.colab import drive\n",
        "drive.mount('/content/drive')\n"
      ],
      "execution_count": 2,
      "outputs": [
        {
          "output_type": "stream",
          "text": [
            "Go to this URL in a browser: https://accounts.google.com/o/oauth2/auth?client_id=947318989803-6bn6qk8qdgf4n4g3pfee6491hc0brc4i.apps.googleusercontent.com&redirect_uri=urn%3aietf%3awg%3aoauth%3a2.0%3aoob&response_type=code&scope=email%20https%3a%2f%2fwww.googleapis.com%2fauth%2fdocs.test%20https%3a%2f%2fwww.googleapis.com%2fauth%2fdrive%20https%3a%2f%2fwww.googleapis.com%2fauth%2fdrive.photos.readonly%20https%3a%2f%2fwww.googleapis.com%2fauth%2fpeopleapi.readonly\n",
            "\n",
            "Enter your authorization code:\n",
            "··········\n",
            "Mounted at /content/drive\n"
          ],
          "name": "stdout"
        }
      ]
    },
    {
      "cell_type": "code",
      "metadata": {
        "id": "hqiX8Fg-z_0s",
        "colab_type": "code",
        "colab": {
          "resources": {
            "http://localhost:8080/nbextensions/google.colab/files.js": {
              "data": "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",
              "ok": true,
              "headers": [
                [
                  "content-type",
                  "application/javascript"
                ]
              ],
              "status": 200,
              "status_text": ""
            }
          },
          "base_uri": "https://localhost:8080/",
          "height": 72
        },
        "outputId": "29e40317-c563-4b9f-cadb-c44d53015df1"
      },
      "source": [
        "from google.colab import files\n",
        "uploaded = files.upload()"
      ],
      "execution_count": 3,
      "outputs": [
        {
          "output_type": "display_data",
          "data": {
            "text/html": [
              "\n",
              "     <input type=\"file\" id=\"files-51c6f082-481e-4177-9d62-43a530b147f9\" name=\"files[]\" multiple disabled\n",
              "        style=\"border:none\" />\n",
              "     <output id=\"result-51c6f082-481e-4177-9d62-43a530b147f9\">\n",
              "      Upload widget is only available when the cell has been executed in the\n",
              "      current browser session. Please rerun this cell to enable.\n",
              "      </output>\n",
              "      <script src=\"/nbextensions/google.colab/files.js\"></script> "
            ],
            "text/plain": [
              "<IPython.core.display.HTML object>"
            ]
          },
          "metadata": {
            "tags": []
          }
        },
        {
          "output_type": "stream",
          "text": [
            "Saving housing.csv to housing.csv\n"
          ],
          "name": "stdout"
        }
      ]
    },
    {
      "cell_type": "code",
      "metadata": {
        "id": "xTvcoT5o1HI6",
        "colab_type": "code",
        "colab": {}
      },
      "source": [
        "import io\n",
        "data = pd.read_csv(io.BytesIO(uploaded['housing.csv']))\n"
      ],
      "execution_count": 66,
      "outputs": []
    },
    {
      "cell_type": "code",
      "metadata": {
        "id": "21_CTJYL1z_5",
        "colab_type": "code",
        "colab": {
          "base_uri": "https://localhost:8080/",
          "height": 204
        },
        "outputId": "9c1416ae-3161-4a7c-9f1c-1c95979804e8"
      },
      "source": [
        "data.head()"
      ],
      "execution_count": 67,
      "outputs": [
        {
          "output_type": "execute_result",
          "data": {
            "text/html": [
              "<div>\n",
              "<style scoped>\n",
              "    .dataframe tbody tr th:only-of-type {\n",
              "        vertical-align: middle;\n",
              "    }\n",
              "\n",
              "    .dataframe tbody tr th {\n",
              "        vertical-align: top;\n",
              "    }\n",
              "\n",
              "    .dataframe thead th {\n",
              "        text-align: right;\n",
              "    }\n",
              "</style>\n",
              "<table border=\"1\" class=\"dataframe\">\n",
              "  <thead>\n",
              "    <tr style=\"text-align: right;\">\n",
              "      <th></th>\n",
              "      <th>RM</th>\n",
              "      <th>LSTAT</th>\n",
              "      <th>PTRATIO</th>\n",
              "      <th>MEDV</th>\n",
              "    </tr>\n",
              "  </thead>\n",
              "  <tbody>\n",
              "    <tr>\n",
              "      <th>0</th>\n",
              "      <td>6.575</td>\n",
              "      <td>4.98</td>\n",
              "      <td>15.3</td>\n",
              "      <td>504000</td>\n",
              "    </tr>\n",
              "    <tr>\n",
              "      <th>1</th>\n",
              "      <td>6.421</td>\n",
              "      <td>9.14</td>\n",
              "      <td>17.8</td>\n",
              "      <td>453600</td>\n",
              "    </tr>\n",
              "    <tr>\n",
              "      <th>2</th>\n",
              "      <td>7.185</td>\n",
              "      <td>4.03</td>\n",
              "      <td>17.8</td>\n",
              "      <td>728700</td>\n",
              "    </tr>\n",
              "    <tr>\n",
              "      <th>3</th>\n",
              "      <td>6.998</td>\n",
              "      <td>2.94</td>\n",
              "      <td>18.7</td>\n",
              "      <td>701400</td>\n",
              "    </tr>\n",
              "    <tr>\n",
              "      <th>4</th>\n",
              "      <td>7.147</td>\n",
              "      <td>5.33</td>\n",
              "      <td>18.7</td>\n",
              "      <td>760200</td>\n",
              "    </tr>\n",
              "  </tbody>\n",
              "</table>\n",
              "</div>"
            ],
            "text/plain": [
              "      RM  LSTAT  PTRATIO    MEDV\n",
              "0  6.575   4.98     15.3  504000\n",
              "1  6.421   9.14     17.8  453600\n",
              "2  7.185   4.03     17.8  728700\n",
              "3  6.998   2.94     18.7  701400\n",
              "4  7.147   5.33     18.7  760200"
            ]
          },
          "metadata": {
            "tags": []
          },
          "execution_count": 67
        }
      ]
    },
    {
      "cell_type": "code",
      "metadata": {
        "id": "tIXW3u19FNMh",
        "colab_type": "code",
        "colab": {
          "base_uri": "https://localhost:8080/",
          "height": 419
        },
        "outputId": "2c028947-ca84-442f-975b-6c44be1be375"
      },
      "source": [
        "data.head(141)"
      ],
      "execution_count": 68,
      "outputs": [
        {
          "output_type": "execute_result",
          "data": {
            "text/html": [
              "<div>\n",
              "<style scoped>\n",
              "    .dataframe tbody tr th:only-of-type {\n",
              "        vertical-align: middle;\n",
              "    }\n",
              "\n",
              "    .dataframe tbody tr th {\n",
              "        vertical-align: top;\n",
              "    }\n",
              "\n",
              "    .dataframe thead th {\n",
              "        text-align: right;\n",
              "    }\n",
              "</style>\n",
              "<table border=\"1\" class=\"dataframe\">\n",
              "  <thead>\n",
              "    <tr style=\"text-align: right;\">\n",
              "      <th></th>\n",
              "      <th>RM</th>\n",
              "      <th>LSTAT</th>\n",
              "      <th>PTRATIO</th>\n",
              "      <th>MEDV</th>\n",
              "    </tr>\n",
              "  </thead>\n",
              "  <tbody>\n",
              "    <tr>\n",
              "      <th>0</th>\n",
              "      <td>6.575</td>\n",
              "      <td>4.98</td>\n",
              "      <td>15.3</td>\n",
              "      <td>504000</td>\n",
              "    </tr>\n",
              "    <tr>\n",
              "      <th>1</th>\n",
              "      <td>6.421</td>\n",
              "      <td>9.14</td>\n",
              "      <td>17.8</td>\n",
              "      <td>453600</td>\n",
              "    </tr>\n",
              "    <tr>\n",
              "      <th>2</th>\n",
              "      <td>7.185</td>\n",
              "      <td>4.03</td>\n",
              "      <td>17.8</td>\n",
              "      <td>728700</td>\n",
              "    </tr>\n",
              "    <tr>\n",
              "      <th>3</th>\n",
              "      <td>6.998</td>\n",
              "      <td>2.94</td>\n",
              "      <td>18.7</td>\n",
              "      <td>701400</td>\n",
              "    </tr>\n",
              "    <tr>\n",
              "      <th>4</th>\n",
              "      <td>7.147</td>\n",
              "      <td>5.33</td>\n",
              "      <td>18.7</td>\n",
              "      <td>760200</td>\n",
              "    </tr>\n",
              "    <tr>\n",
              "      <th>...</th>\n",
              "      <td>...</td>\n",
              "      <td>...</td>\n",
              "      <td>...</td>\n",
              "      <td>...</td>\n",
              "    </tr>\n",
              "    <tr>\n",
              "      <th>136</th>\n",
              "      <td>5.942</td>\n",
              "      <td>16.90</td>\n",
              "      <td>21.2</td>\n",
              "      <td>365400</td>\n",
              "    </tr>\n",
              "    <tr>\n",
              "      <th>137</th>\n",
              "      <td>6.454</td>\n",
              "      <td>14.59</td>\n",
              "      <td>21.2</td>\n",
              "      <td>359100</td>\n",
              "    </tr>\n",
              "    <tr>\n",
              "      <th>138</th>\n",
              "      <td>5.857</td>\n",
              "      <td>21.32</td>\n",
              "      <td>21.2</td>\n",
              "      <td>279300</td>\n",
              "    </tr>\n",
              "    <tr>\n",
              "      <th>139</th>\n",
              "      <td>6.151</td>\n",
              "      <td>18.46</td>\n",
              "      <td>21.2</td>\n",
              "      <td>373800</td>\n",
              "    </tr>\n",
              "    <tr>\n",
              "      <th>140</th>\n",
              "      <td>6.174</td>\n",
              "      <td>24.16</td>\n",
              "      <td>21.2</td>\n",
              "      <td>294000</td>\n",
              "    </tr>\n",
              "  </tbody>\n",
              "</table>\n",
              "<p>141 rows × 4 columns</p>\n",
              "</div>"
            ],
            "text/plain": [
              "        RM  LSTAT  PTRATIO    MEDV\n",
              "0    6.575   4.98     15.3  504000\n",
              "1    6.421   9.14     17.8  453600\n",
              "2    7.185   4.03     17.8  728700\n",
              "3    6.998   2.94     18.7  701400\n",
              "4    7.147   5.33     18.7  760200\n",
              "..     ...    ...      ...     ...\n",
              "136  5.942  16.90     21.2  365400\n",
              "137  6.454  14.59     21.2  359100\n",
              "138  5.857  21.32     21.2  279300\n",
              "139  6.151  18.46     21.2  373800\n",
              "140  6.174  24.16     21.2  294000\n",
              "\n",
              "[141 rows x 4 columns]"
            ]
          },
          "metadata": {
            "tags": []
          },
          "execution_count": 68
        }
      ]
    },
    {
      "cell_type": "code",
      "metadata": {
        "id": "bj5S-SkAMdjR",
        "colab_type": "code",
        "colab": {}
      },
      "source": [
        "data.describe()"
      ],
      "execution_count": null,
      "outputs": []
    },
    {
      "cell_type": "markdown",
      "metadata": {
        "id": "NXwHzK4xFPC8",
        "colab_type": "text"
      },
      "source": [
        "**Finidng all the important statistics for the given dataset**"
      ]
    },
    {
      "cell_type": "code",
      "metadata": {
        "id": "aco_s9ex6IIc",
        "colab_type": "code",
        "colab": {
          "base_uri": "https://localhost:8080/",
          "height": 102
        },
        "outputId": "9afc252f-7e0e-487e-ec68-afc21fdc402a"
      },
      "source": [
        "y = data['MEDV']\n",
        "min_price = np.mean(y)\n",
        "print(min_price)\n",
        "max_price = np.max(y)\n",
        "print(max_price)\n",
        "mean_y = np.mean(y)\n",
        "print(mean_y)\n",
        "median_price = np.median(y)\n",
        "print(median_price)\n",
        "std_price = np.std(y)\n",
        "print(std_price)"
      ],
      "execution_count": 74,
      "outputs": [
        {
          "output_type": "stream",
          "text": [
            "454342.9447852761\n",
            "1024800\n",
            "454342.9447852761\n",
            "438900.0\n",
            "165171.13154429477\n"
          ],
          "name": "stdout"
        }
      ]
    },
    {
      "cell_type": "markdown",
      "metadata": {
        "id": "iVyiJt1pIm0X",
        "colab_type": "text"
      },
      "source": [
        "**Query 1** - Removal of outliers"
      ]
    },
    {
      "cell_type": "markdown",
      "metadata": {
        "id": "mFFahai_FaOS",
        "colab_type": "text"
      },
      "source": [
        "**Detecting outliers using boxplot as it is one of the most convenient of the visualizations to detect outliers.**"
      ]
    },
    {
      "cell_type": "code",
      "metadata": {
        "id": "lB6dz_qkABuk",
        "colab_type": "code",
        "colab": {
          "base_uri": "https://localhost:8080/",
          "height": 296
        },
        "outputId": "2fc21ecd-9c69-4952-d936-a1604473df92"
      },
      "source": [
        "#detecting outliers using boxplot\n",
        "import seaborn as sns\n",
        "sns.boxplot(x=data['PTRATIO'])"
      ],
      "execution_count": 95,
      "outputs": [
        {
          "output_type": "execute_result",
          "data": {
            "text/plain": [
              "<matplotlib.axes._subplots.AxesSubplot at 0x7f8cf647d588>"
            ]
          },
          "metadata": {
            "tags": []
          },
          "execution_count": 95
        },
        {
          "output_type": "display_data",
          "data": {
            "image/png": "[encoded data removed]",
            "text/plain": [
              "<Figure size 432x288 with 1 Axes>"
            ]
          },
          "metadata": {
            "tags": [],
            "needs_background": "light"
          }
        }
      ]
    },
    {
      "cell_type": "code",
      "metadata": {
        "id": "h0bT41POAxiN",
        "colab_type": "code",
        "colab": {
          "base_uri": "https://localhost:8080/",
          "height": 296
        },
        "outputId": "6408642f-0894-477a-a392-1bc7efb4f6b9"
      },
      "source": [
        "sns.boxplot(x=data['LSTAT'])"
      ],
      "execution_count": 96,
      "outputs": [
        {
          "output_type": "execute_result",
          "data": {
            "text/plain": [
              "<matplotlib.axes._subplots.AxesSubplot at 0x7f8cf63eeda0>"
            ]
          },
          "metadata": {
            "tags": []
          },
          "execution_count": 96
        },
        {
          "output_type": "display_data",
          "data": {
            "image/png": "[encoded data removed]",
            "text/plain": [
              "<Figure size 432x288 with 1 Axes>"
            ]
          },
          "metadata": {
            "tags": [],
            "needs_background": "light"
          }
        }
      ]
    },
    {
      "cell_type": "code",
      "metadata": {
        "id": "vZYQemIdBQSb",
        "colab_type": "code",
        "colab": {
          "base_uri": "https://localhost:8080/",
          "height": 296
        },
        "outputId": "f105dac9-3226-44af-83e9-5feb32d2499a"
      },
      "source": [
        "sns.boxplot(x=data['RM'])"
      ],
      "execution_count": 97,
      "outputs": [
        {
          "output_type": "execute_result",
          "data": {
            "text/plain": [
              "<matplotlib.axes._subplots.AxesSubplot at 0x7f8cf63c6668>"
            ]
          },
          "metadata": {
            "tags": []
          },
          "execution_count": 97
        },
        {
          "output_type": "display_data",
          "data": {
            "image/png": "[encoded data removed]",
            "text/plain": [
              "<Figure size 432x288 with 1 Axes>"
            ]
          },
          "metadata": {
            "tags": [],
            "needs_background": "light"
          }
        }
      ]
    },
    {
      "cell_type": "markdown",
      "metadata": {
        "id": "4Db0HDAxF6LE",
        "colab_type": "text"
      },
      "source": [
        "**Since now we know where are outliers we need to remove them so working with z-score**"
      ]
    },
    {
      "cell_type": "code",
      "metadata": {
        "id": "3k4Y5kdBCl16",
        "colab_type": "code",
        "colab": {
          "base_uri": "https://localhost:8080/",
          "height": 289
        },
        "outputId": "9e63c7e2-ddef-4b00-de5f-377cbf3d14f0"
      },
      "source": [
        "from scipy import stats\n",
        "z = np.abs(stats.zscore(data))\n",
        "print(z)\n",
        "print(\"\\n\")\n",
        "\n",
        "threshold = 3\n",
        "print(np.where(z > 3))\n",
        "print(\"\\n\")\n",
        "\n",
        "\n",
        "print(z[141][1])\n",
        "print(\"\\n\")\n",
        "\n",
        "data_wo = data[(z < 3).all(axis=1)]"
      ],
      "execution_count": 98,
      "outputs": [
        {
          "output_type": "stream",
          "text": [
            "[[0.52055395 1.1250769  1.5250831  0.30064004]\n",
            " [0.28104837 0.53706982 0.33974768 0.00449803]\n",
            " [1.46924486 1.25935736 0.33974768 1.66104726]\n",
            " ...\n",
            " [1.14420158 1.03178731 1.17748167 0.28792595]\n",
            " [0.86114953 0.91305511 1.17748167 0.04635831]\n",
            " [0.32704695 0.71516812 1.17748167 1.23776439]]\n",
            "\n",
            "\n",
            "(array([141, 197, 217, 220, 224, 225, 225, 245, 253, 253, 270, 272, 353,\n",
            "       355, 356, 357, 357, 389, 395, 397]), array([1, 3, 0, 3, 0, 0, 3, 0, 0, 3, 3, 3, 0, 0, 1, 0, 1, 0, 1, 1]))\n",
            "\n",
            "\n",
            "3.0347904767118865\n",
            "\n",
            "\n"
          ],
          "name": "stdout"
        }
      ]
    },
    {
      "cell_type": "markdown",
      "metadata": {
        "id": "rv8cjhdYGHms",
        "colab_type": "text"
      },
      "source": [
        "**Shape of actual dataset, with outliers**"
      ]
    },
    {
      "cell_type": "code",
      "metadata": {
        "id": "CbavwaUFGCPB",
        "colab_type": "code",
        "colab": {
          "base_uri": "https://localhost:8080/",
          "height": 34
        },
        "outputId": "71cd61f9-3359-488b-a3d4-8c8886597f58"
      },
      "source": [
        "data.shape"
      ],
      "execution_count": 99,
      "outputs": [
        {
          "output_type": "execute_result",
          "data": {
            "text/plain": [
              "(489, 4)"
            ]
          },
          "metadata": {
            "tags": []
          },
          "execution_count": 99
        }
      ]
    },
    {
      "cell_type": "markdown",
      "metadata": {
        "id": "Kf7_AZ3wGShc",
        "colab_type": "text"
      },
      "source": [
        "**Shape of dataset, without outliers.**"
      ]
    },
    {
      "cell_type": "code",
      "metadata": {
        "id": "5fvN5ShtG-0x",
        "colab_type": "code",
        "colab": {
          "base_uri": "https://localhost:8080/",
          "height": 34
        },
        "outputId": "9b01ab6b-c55d-406c-fb0b-51b6210565bb"
      },
      "source": [
        "data_wo.shape"
      ],
      "execution_count": 100,
      "outputs": [
        {
          "output_type": "execute_result",
          "data": {
            "text/plain": [
              "(472, 4)"
            ]
          },
          "metadata": {
            "tags": []
          },
          "execution_count": 100
        }
      ]
    },
    {
      "cell_type": "markdown",
      "metadata": {
        "id": "xuy8rODoHj1D",
        "colab_type": "text"
      },
      "source": [
        "**Removed 17 rows from from the original dataset.**\n"
      ]
    },
    {
      "cell_type": "markdown",
      "metadata": {
        "id": "1zQGQrq3Gd0s",
        "colab_type": "text"
      },
      "source": [
        "**Query 3** - Dropping columns with Perason co-efficient greater than 0.85."
      ]
    },
    {
      "cell_type": "code",
      "metadata": {
        "id": "TFIxD153HzbQ",
        "colab_type": "code",
        "colab": {}
      },
      "source": [
        "co_var = data_wo.corr().abs() \n",
        "threshold = 0.85\n",
        "upper = co_var.where(np.triu(np.ones(co_var.shape), k=1).astype(np.bool))"
      ],
      "execution_count": 101,
      "outputs": []
    },
    {
      "cell_type": "code",
      "metadata": {
        "id": "VzjfmF-Kck3U",
        "colab_type": "code",
        "colab": {}
      },
      "source": [
        "to_drop = [column for column in upper.columns if any(upper[column] > threshold)]\n"
      ],
      "execution_count": 102,
      "outputs": []
    },
    {
      "cell_type": "code",
      "metadata": {
        "id": "TM2KUUA3cmhe",
        "colab_type": "code",
        "colab": {
          "base_uri": "https://localhost:8080/",
          "height": 419
        },
        "outputId": "bdd5b6a4-e099-4856-93e1-614be0d3e611"
      },
      "source": [
        "data_wo.drop(data[to_drop], axis=1)"
      ],
      "execution_count": 103,
      "outputs": [
        {
          "output_type": "execute_result",
          "data": {
            "text/html": [
              "<div>\n",
              "<style scoped>\n",
              "    .dataframe tbody tr th:only-of-type {\n",
              "        vertical-align: middle;\n",
              "    }\n",
              "\n",
              "    .dataframe tbody tr th {\n",
              "        vertical-align: top;\n",
              "    }\n",
              "\n",
              "    .dataframe thead th {\n",
              "        text-align: right;\n",
              "    }\n",
              "</style>\n",
              "<table border=\"1\" class=\"dataframe\">\n",
              "  <thead>\n",
              "    <tr style=\"text-align: right;\">\n",
              "      <th></th>\n",
              "      <th>RM</th>\n",
              "      <th>LSTAT</th>\n",
              "      <th>PTRATIO</th>\n",
              "      <th>MEDV</th>\n",
              "    </tr>\n",
              "  </thead>\n",
              "  <tbody>\n",
              "    <tr>\n",
              "      <th>0</th>\n",
              "      <td>6.575</td>\n",
              "      <td>4.98</td>\n",
              "      <td>15.3</td>\n",
              "      <td>504000</td>\n",
              "    </tr>\n",
              "    <tr>\n",
              "      <th>1</th>\n",
              "      <td>6.421</td>\n",
              "      <td>9.14</td>\n",
              "      <td>17.8</td>\n",
              "      <td>453600</td>\n",
              "    </tr>\n",
              "    <tr>\n",
              "      <th>2</th>\n",
              "      <td>7.185</td>\n",
              "      <td>4.03</td>\n",
              "      <td>17.8</td>\n",
              "      <td>728700</td>\n",
              "    </tr>\n",
              "    <tr>\n",
              "      <th>3</th>\n",
              "      <td>6.998</td>\n",
              "      <td>2.94</td>\n",
              "      <td>18.7</td>\n",
              "      <td>701400</td>\n",
              "    </tr>\n",
              "    <tr>\n",
              "      <th>4</th>\n",
              "      <td>7.147</td>\n",
              "      <td>5.33</td>\n",
              "      <td>18.7</td>\n",
              "      <td>760200</td>\n",
              "    </tr>\n",
              "    <tr>\n",
              "      <th>...</th>\n",
              "      <td>...</td>\n",
              "      <td>...</td>\n",
              "      <td>...</td>\n",
              "      <td>...</td>\n",
              "    </tr>\n",
              "    <tr>\n",
              "      <th>484</th>\n",
              "      <td>6.593</td>\n",
              "      <td>9.67</td>\n",
              "      <td>21.0</td>\n",
              "      <td>470400</td>\n",
              "    </tr>\n",
              "    <tr>\n",
              "      <th>485</th>\n",
              "      <td>6.120</td>\n",
              "      <td>9.08</td>\n",
              "      <td>21.0</td>\n",
              "      <td>432600</td>\n",
              "    </tr>\n",
              "    <tr>\n",
              "      <th>486</th>\n",
              "      <td>6.976</td>\n",
              "      <td>5.64</td>\n",
              "      <td>21.0</td>\n",
              "      <td>501900</td>\n",
              "    </tr>\n",
              "    <tr>\n",
              "      <th>487</th>\n",
              "      <td>6.794</td>\n",
              "      <td>6.48</td>\n",
              "      <td>21.0</td>\n",
              "      <td>462000</td>\n",
              "    </tr>\n",
              "    <tr>\n",
              "      <th>488</th>\n",
              "      <td>6.030</td>\n",
              "      <td>7.88</td>\n",
              "      <td>21.0</td>\n",
              "      <td>249900</td>\n",
              "    </tr>\n",
              "  </tbody>\n",
              "</table>\n",
              "<p>472 rows × 4 columns</p>\n",
              "</div>"
            ],
            "text/plain": [
              "        RM  LSTAT  PTRATIO    MEDV\n",
              "0    6.575   4.98     15.3  504000\n",
              "1    6.421   9.14     17.8  453600\n",
              "2    7.185   4.03     17.8  728700\n",
              "3    6.998   2.94     18.7  701400\n",
              "4    7.147   5.33     18.7  760200\n",
              "..     ...    ...      ...     ...\n",
              "484  6.593   9.67     21.0  470400\n",
              "485  6.120   9.08     21.0  432600\n",
              "486  6.976   5.64     21.0  501900\n",
              "487  6.794   6.48     21.0  462000\n",
              "488  6.030   7.88     21.0  249900\n",
              "\n",
              "[472 rows x 4 columns]"
            ]
          },
          "metadata": {
            "tags": []
          },
          "execution_count": 103
        }
      ]
    },
    {
      "cell_type": "markdown",
      "metadata": {
        "id": "eXKQMnETG-rB",
        "colab_type": "text"
      },
      "source": [
        "**Query 2** -  Adding new columns which are the results of difference between two date columns"
      ]
    },
    {
      "cell_type": "markdown",
      "metadata": {
        "id": "83Dv-YZSI0fx",
        "colab_type": "text"
      },
      "source": [
        "**Since my dataset didn't contain date column so I added three date columns of my own and performed this query.**"
      ]
    },
    {
      "cell_type": "code",
      "metadata": {
        "id": "V8Kcm3_98vBc",
        "colab_type": "code",
        "colab": {
          "base_uri": "https://localhost:8080/",
          "height": 521
        },
        "outputId": "80030ca5-a6e1-4acf-fccc-e90b11f31c83"
      },
      "source": [
        "from datetime import datetime  \n",
        "from datetime import timedelta  \n",
        "\n",
        "Date = \"1/10/13\"\n",
        "data_wo['date'] = datetime.strptime(Date, \"%m/%d/%y\")\n",
        "data_wo[:472]\n"
      ],
      "execution_count": 110,
      "outputs": [
        {
          "output_type": "stream",
          "text": [
            "/usr/local/lib/python3.6/dist-packages/ipykernel_launcher.py:5: SettingWithCopyWarning: \n",
            "A value is trying to be set on a copy of a slice from a DataFrame.\n",
            "Try using .loc[row_indexer,col_indexer] = value instead\n",
            "\n",
            "See the caveats in the documentation: https://pandas.pydata.org/pandas-docs/stable/user_guide/indexing.html#returning-a-view-versus-a-copy\n",
            "  \"\"\"\n"
          ],
          "name": "stderr"
        },
        {
          "output_type": "execute_result",
          "data": {
            "text/html": [
              "<div>\n",
              "<style scoped>\n",
              "    .dataframe tbody tr th:only-of-type {\n",
              "        vertical-align: middle;\n",
              "    }\n",
              "\n",
              "    .dataframe tbody tr th {\n",
              "        vertical-align: top;\n",
              "    }\n",
              "\n",
              "    .dataframe thead th {\n",
              "        text-align: right;\n",
              "    }\n",
              "</style>\n",
              "<table border=\"1\" class=\"dataframe\">\n",
              "  <thead>\n",
              "    <tr style=\"text-align: right;\">\n",
              "      <th></th>\n",
              "      <th>RM</th>\n",
              "      <th>LSTAT</th>\n",
              "      <th>PTRATIO</th>\n",
              "      <th>MEDV</th>\n",
              "      <th>date</th>\n",
              "      <th>date2</th>\n",
              "      <th>date3</th>\n",
              "      <th>date - date2 (abs)</th>\n",
              "      <th>date2 - date3 (abs)</th>\n",
              "      <th>date3 - date (abs)</th>\n",
              "    </tr>\n",
              "  </thead>\n",
              "  <tbody>\n",
              "    <tr>\n",
              "      <th>0</th>\n",
              "      <td>6.575</td>\n",
              "      <td>4.98</td>\n",
              "      <td>15.3</td>\n",
              "      <td>504000</td>\n",
              "      <td>2013-01-10</td>\n",
              "      <td>2015-05-10</td>\n",
              "      <td>2020-10-10</td>\n",
              "      <td>850 days</td>\n",
              "      <td>1980 days</td>\n",
              "      <td>2830 days</td>\n",
              "    </tr>\n",
              "    <tr>\n",
              "      <th>1</th>\n",
              "      <td>6.421</td>\n",
              "      <td>9.14</td>\n",
              "      <td>17.8</td>\n",
              "      <td>453600</td>\n",
              "      <td>2013-01-10</td>\n",
              "      <td>2015-05-10</td>\n",
              "      <td>2020-10-10</td>\n",
              "      <td>850 days</td>\n",
              "      <td>1980 days</td>\n",
              "      <td>2830 days</td>\n",
              "    </tr>\n",
              "    <tr>\n",
              "      <th>2</th>\n",
              "      <td>7.185</td>\n",
              "      <td>4.03</td>\n",
              "      <td>17.8</td>\n",
              "      <td>728700</td>\n",
              "      <td>2013-01-10</td>\n",
              "      <td>2015-05-10</td>\n",
              "      <td>2020-10-10</td>\n",
              "      <td>850 days</td>\n",
              "      <td>1980 days</td>\n",
              "      <td>2830 days</td>\n",
              "    </tr>\n",
              "    <tr>\n",
              "      <th>3</th>\n",
              "      <td>6.998</td>\n",
              "      <td>2.94</td>\n",
              "      <td>18.7</td>\n",
              "      <td>701400</td>\n",
              "      <td>2013-01-10</td>\n",
              "      <td>2015-05-10</td>\n",
              "      <td>2020-10-10</td>\n",
              "      <td>850 days</td>\n",
              "      <td>1980 days</td>\n",
              "      <td>2830 days</td>\n",
              "    </tr>\n",
              "    <tr>\n",
              "      <th>4</th>\n",
              "      <td>7.147</td>\n",
              "      <td>5.33</td>\n",
              "      <td>18.7</td>\n",
              "      <td>760200</td>\n",
              "      <td>2013-01-10</td>\n",
              "      <td>2015-05-10</td>\n",
              "      <td>2020-10-10</td>\n",
              "      <td>850 days</td>\n",
              "      <td>1980 days</td>\n",
              "      <td>2830 days</td>\n",
              "    </tr>\n",
              "    <tr>\n",
              "      <th>...</th>\n",
              "      <td>...</td>\n",
              "      <td>...</td>\n",
              "      <td>...</td>\n",
              "      <td>...</td>\n",
              "      <td>...</td>\n",
              "      <td>...</td>\n",
              "      <td>...</td>\n",
              "      <td>...</td>\n",
              "      <td>...</td>\n",
              "      <td>...</td>\n",
              "    </tr>\n",
              "    <tr>\n",
              "      <th>484</th>\n",
              "      <td>6.593</td>\n",
              "      <td>9.67</td>\n",
              "      <td>21.0</td>\n",
              "      <td>470400</td>\n",
              "      <td>2013-01-10</td>\n",
              "      <td>2015-05-10</td>\n",
              "      <td>2020-10-10</td>\n",
              "      <td>850 days</td>\n",
              "      <td>1980 days</td>\n",
              "      <td>2830 days</td>\n",
              "    </tr>\n",
              "    <tr>\n",
              "      <th>485</th>\n",
              "      <td>6.120</td>\n",
              "      <td>9.08</td>\n",
              "      <td>21.0</td>\n",
              "      <td>432600</td>\n",
              "      <td>2013-01-10</td>\n",
              "      <td>2015-05-10</td>\n",
              "      <td>2020-10-10</td>\n",
              "      <td>850 days</td>\n",
              "      <td>1980 days</td>\n",
              "      <td>2830 days</td>\n",
              "    </tr>\n",
              "    <tr>\n",
              "      <th>486</th>\n",
              "      <td>6.976</td>\n",
              "      <td>5.64</td>\n",
              "      <td>21.0</td>\n",
              "      <td>501900</td>\n",
              "      <td>2013-01-10</td>\n",
              "      <td>2015-05-10</td>\n",
              "      <td>2020-10-10</td>\n",
              "      <td>850 days</td>\n",
              "      <td>1980 days</td>\n",
              "      <td>2830 days</td>\n",
              "    </tr>\n",
              "    <tr>\n",
              "      <th>487</th>\n",
              "      <td>6.794</td>\n",
              "      <td>6.48</td>\n",
              "      <td>21.0</td>\n",
              "      <td>462000</td>\n",
              "      <td>2013-01-10</td>\n",
              "      <td>2015-05-10</td>\n",
              "      <td>2020-10-10</td>\n",
              "      <td>850 days</td>\n",
              "      <td>1980 days</td>\n",
              "      <td>2830 days</td>\n",
              "    </tr>\n",
              "    <tr>\n",
              "      <th>488</th>\n",
              "      <td>6.030</td>\n",
              "      <td>7.88</td>\n",
              "      <td>21.0</td>\n",
              "      <td>249900</td>\n",
              "      <td>2013-01-10</td>\n",
              "      <td>2015-05-10</td>\n",
              "      <td>2020-10-10</td>\n",
              "      <td>850 days</td>\n",
              "      <td>1980 days</td>\n",
              "      <td>2830 days</td>\n",
              "    </tr>\n",
              "  </tbody>\n",
              "</table>\n",
              "<p>472 rows × 10 columns</p>\n",
              "</div>"
            ],
            "text/plain": [
              "        RM  LSTAT  ...  date2 - date3 (abs)  date3 - date (abs)\n",
              "0    6.575   4.98  ...            1980 days           2830 days\n",
              "1    6.421   9.14  ...            1980 days           2830 days\n",
              "2    7.185   4.03  ...            1980 days           2830 days\n",
              "3    6.998   2.94  ...            1980 days           2830 days\n",
              "4    7.147   5.33  ...            1980 days           2830 days\n",
              "..     ...    ...  ...                  ...                 ...\n",
              "484  6.593   9.67  ...            1980 days           2830 days\n",
              "485  6.120   9.08  ...            1980 days           2830 days\n",
              "486  6.976   5.64  ...            1980 days           2830 days\n",
              "487  6.794   6.48  ...            1980 days           2830 days\n",
              "488  6.030   7.88  ...            1980 days           2830 days\n",
              "\n",
              "[472 rows x 10 columns]"
            ]
          },
          "metadata": {
            "tags": []
          },
          "execution_count": 110
        }
      ]
    },
    {
      "cell_type": "code",
      "metadata": {
        "id": "FFaIgPxF_YVc",
        "colab_type": "code",
        "colab": {
          "base_uri": "https://localhost:8080/",
          "height": 521
        },
        "outputId": "a199f660-1ccb-4e95-89f1-13fd568fa6b5"
      },
      "source": [
        "Date2 = \"5/10/15\"\n",
        "data_wo['date2'] = datetime.strptime(Date2, \"%m/%d/%y\") \n",
        "data_wo[:472]"
      ],
      "execution_count": 111,
      "outputs": [
        {
          "output_type": "stream",
          "text": [
            "/usr/local/lib/python3.6/dist-packages/ipykernel_launcher.py:2: SettingWithCopyWarning: \n",
            "A value is trying to be set on a copy of a slice from a DataFrame.\n",
            "Try using .loc[row_indexer,col_indexer] = value instead\n",
            "\n",
            "See the caveats in the documentation: https://pandas.pydata.org/pandas-docs/stable/user_guide/indexing.html#returning-a-view-versus-a-copy\n",
            "  \n"
          ],
          "name": "stderr"
        },
        {
          "output_type": "execute_result",
          "data": {
            "text/html": [
              "<div>\n",
              "<style scoped>\n",
              "    .dataframe tbody tr th:only-of-type {\n",
              "        vertical-align: middle;\n",
              "    }\n",
              "\n",
              "    .dataframe tbody tr th {\n",
              "        vertical-align: top;\n",
              "    }\n",
              "\n",
              "    .dataframe thead th {\n",
              "        text-align: right;\n",
              "    }\n",
              "</style>\n",
              "<table border=\"1\" class=\"dataframe\">\n",
              "  <thead>\n",
              "    <tr style=\"text-align: right;\">\n",
              "      <th></th>\n",
              "      <th>RM</th>\n",
              "      <th>LSTAT</th>\n",
              "      <th>PTRATIO</th>\n",
              "      <th>MEDV</th>\n",
              "      <th>date</th>\n",
              "      <th>date2</th>\n",
              "      <th>date3</th>\n",
              "      <th>date - date2 (abs)</th>\n",
              "      <th>date2 - date3 (abs)</th>\n",
              "      <th>date3 - date (abs)</th>\n",
              "    </tr>\n",
              "  </thead>\n",
              "  <tbody>\n",
              "    <tr>\n",
              "      <th>0</th>\n",
              "      <td>6.575</td>\n",
              "      <td>4.98</td>\n",
              "      <td>15.3</td>\n",
              "      <td>504000</td>\n",
              "      <td>2013-01-10</td>\n",
              "      <td>2015-05-10</td>\n",
              "      <td>2020-10-10</td>\n",
              "      <td>850 days</td>\n",
              "      <td>1980 days</td>\n",
              "      <td>2830 days</td>\n",
              "    </tr>\n",
              "    <tr>\n",
              "      <th>1</th>\n",
              "      <td>6.421</td>\n",
              "      <td>9.14</td>\n",
              "      <td>17.8</td>\n",
              "      <td>453600</td>\n",
              "      <td>2013-01-10</td>\n",
              "      <td>2015-05-10</td>\n",
              "      <td>2020-10-10</td>\n",
              "      <td>850 days</td>\n",
              "      <td>1980 days</td>\n",
              "      <td>2830 days</td>\n",
              "    </tr>\n",
              "    <tr>\n",
              "      <th>2</th>\n",
              "      <td>7.185</td>\n",
              "      <td>4.03</td>\n",
              "      <td>17.8</td>\n",
              "      <td>728700</td>\n",
              "      <td>2013-01-10</td>\n",
              "      <td>2015-05-10</td>\n",
              "      <td>2020-10-10</td>\n",
              "      <td>850 days</td>\n",
              "      <td>1980 days</td>\n",
              "      <td>2830 days</td>\n",
              "    </tr>\n",
              "    <tr>\n",
              "      <th>3</th>\n",
              "      <td>6.998</td>\n",
              "      <td>2.94</td>\n",
              "      <td>18.7</td>\n",
              "      <td>701400</td>\n",
              "      <td>2013-01-10</td>\n",
              "      <td>2015-05-10</td>\n",
              "      <td>2020-10-10</td>\n",
              "      <td>850 days</td>\n",
              "      <td>1980 days</td>\n",
              "      <td>2830 days</td>\n",
              "    </tr>\n",
              "    <tr>\n",
              "      <th>4</th>\n",
              "      <td>7.147</td>\n",
              "      <td>5.33</td>\n",
              "      <td>18.7</td>\n",
              "      <td>760200</td>\n",
              "      <td>2013-01-10</td>\n",
              "      <td>2015-05-10</td>\n",
              "      <td>2020-10-10</td>\n",
              "      <td>850 days</td>\n",
              "      <td>1980 days</td>\n",
              "      <td>2830 days</td>\n",
              "    </tr>\n",
              "    <tr>\n",
              "      <th>...</th>\n",
              "      <td>...</td>\n",
              "      <td>...</td>\n",
              "      <td>...</td>\n",
              "      <td>...</td>\n",
              "      <td>...</td>\n",
              "      <td>...</td>\n",
              "      <td>...</td>\n",
              "      <td>...</td>\n",
              "      <td>...</td>\n",
              "      <td>...</td>\n",
              "    </tr>\n",
              "    <tr>\n",
              "      <th>484</th>\n",
              "      <td>6.593</td>\n",
              "      <td>9.67</td>\n",
              "      <td>21.0</td>\n",
              "      <td>470400</td>\n",
              "      <td>2013-01-10</td>\n",
              "      <td>2015-05-10</td>\n",
              "      <td>2020-10-10</td>\n",
              "      <td>850 days</td>\n",
              "      <td>1980 days</td>\n",
              "      <td>2830 days</td>\n",
              "    </tr>\n",
              "    <tr>\n",
              "      <th>485</th>\n",
              "      <td>6.120</td>\n",
              "      <td>9.08</td>\n",
              "      <td>21.0</td>\n",
              "      <td>432600</td>\n",
              "      <td>2013-01-10</td>\n",
              "      <td>2015-05-10</td>\n",
              "      <td>2020-10-10</td>\n",
              "      <td>850 days</td>\n",
              "      <td>1980 days</td>\n",
              "      <td>2830 days</td>\n",
              "    </tr>\n",
              "    <tr>\n",
              "      <th>486</th>\n",
              "      <td>6.976</td>\n",
              "      <td>5.64</td>\n",
              "      <td>21.0</td>\n",
              "      <td>501900</td>\n",
              "      <td>2013-01-10</td>\n",
              "      <td>2015-05-10</td>\n",
              "      <td>2020-10-10</td>\n",
              "      <td>850 days</td>\n",
              "      <td>1980 days</td>\n",
              "      <td>2830 days</td>\n",
              "    </tr>\n",
              "    <tr>\n",
              "      <th>487</th>\n",
              "      <td>6.794</td>\n",
              "      <td>6.48</td>\n",
              "      <td>21.0</td>\n",
              "      <td>462000</td>\n",
              "      <td>2013-01-10</td>\n",
              "      <td>2015-05-10</td>\n",
              "      <td>2020-10-10</td>\n",
              "      <td>850 days</td>\n",
              "      <td>1980 days</td>\n",
              "      <td>2830 days</td>\n",
              "    </tr>\n",
              "    <tr>\n",
              "      <th>488</th>\n",
              "      <td>6.030</td>\n",
              "      <td>7.88</td>\n",
              "      <td>21.0</td>\n",
              "      <td>249900</td>\n",
              "      <td>2013-01-10</td>\n",
              "      <td>2015-05-10</td>\n",
              "      <td>2020-10-10</td>\n",
              "      <td>850 days</td>\n",
              "      <td>1980 days</td>\n",
              "      <td>2830 days</td>\n",
              "    </tr>\n",
              "  </tbody>\n",
              "</table>\n",
              "<p>472 rows × 10 columns</p>\n",
              "</div>"
            ],
            "text/plain": [
              "        RM  LSTAT  ...  date2 - date3 (abs)  date3 - date (abs)\n",
              "0    6.575   4.98  ...            1980 days           2830 days\n",
              "1    6.421   9.14  ...            1980 days           2830 days\n",
              "2    7.185   4.03  ...            1980 days           2830 days\n",
              "3    6.998   2.94  ...            1980 days           2830 days\n",
              "4    7.147   5.33  ...            1980 days           2830 days\n",
              "..     ...    ...  ...                  ...                 ...\n",
              "484  6.593   9.67  ...            1980 days           2830 days\n",
              "485  6.120   9.08  ...            1980 days           2830 days\n",
              "486  6.976   5.64  ...            1980 days           2830 days\n",
              "487  6.794   6.48  ...            1980 days           2830 days\n",
              "488  6.030   7.88  ...            1980 days           2830 days\n",
              "\n",
              "[472 rows x 10 columns]"
            ]
          },
          "metadata": {
            "tags": []
          },
          "execution_count": 111
        }
      ]
    },
    {
      "cell_type": "code",
      "metadata": {
        "id": "aONGX8oz-Coz",
        "colab_type": "code",
        "colab": {
          "base_uri": "https://localhost:8080/",
          "height": 521
        },
        "outputId": "100bb794-e96b-463a-c391-08069bf864d0"
      },
      "source": [
        "StartDate = \"10/10/20\"\n",
        "\n",
        "data_wo['date3'] = datetime.strptime(StartDate, \"%m/%d/%y\")\n",
        "data_wo"
      ],
      "execution_count": 112,
      "outputs": [
        {
          "output_type": "stream",
          "text": [
            "/usr/local/lib/python3.6/dist-packages/ipykernel_launcher.py:3: SettingWithCopyWarning: \n",
            "A value is trying to be set on a copy of a slice from a DataFrame.\n",
            "Try using .loc[row_indexer,col_indexer] = value instead\n",
            "\n",
            "See the caveats in the documentation: https://pandas.pydata.org/pandas-docs/stable/user_guide/indexing.html#returning-a-view-versus-a-copy\n",
            "  This is separate from the ipykernel package so we can avoid doing imports until\n"
          ],
          "name": "stderr"
        },
        {
          "output_type": "execute_result",
          "data": {
            "text/html": [
              "<div>\n",
              "<style scoped>\n",
              "    .dataframe tbody tr th:only-of-type {\n",
              "        vertical-align: middle;\n",
              "    }\n",
              "\n",
              "    .dataframe tbody tr th {\n",
              "        vertical-align: top;\n",
              "    }\n",
              "\n",
              "    .dataframe thead th {\n",
              "        text-align: right;\n",
              "    }\n",
              "</style>\n",
              "<table border=\"1\" class=\"dataframe\">\n",
              "  <thead>\n",
              "    <tr style=\"text-align: right;\">\n",
              "      <th></th>\n",
              "      <th>RM</th>\n",
              "      <th>LSTAT</th>\n",
              "      <th>PTRATIO</th>\n",
              "      <th>MEDV</th>\n",
              "      <th>date</th>\n",
              "      <th>date2</th>\n",
              "      <th>date3</th>\n",
              "      <th>date - date2 (abs)</th>\n",
              "      <th>date2 - date3 (abs)</th>\n",
              "      <th>date3 - date (abs)</th>\n",
              "    </tr>\n",
              "  </thead>\n",
              "  <tbody>\n",
              "    <tr>\n",
              "      <th>0</th>\n",
              "      <td>6.575</td>\n",
              "      <td>4.98</td>\n",
              "      <td>15.3</td>\n",
              "      <td>504000</td>\n",
              "      <td>2013-01-10</td>\n",
              "      <td>2015-05-10</td>\n",
              "      <td>2020-10-10</td>\n",
              "      <td>850 days</td>\n",
              "      <td>1980 days</td>\n",
              "      <td>2830 days</td>\n",
              "    </tr>\n",
              "    <tr>\n",
              "      <th>1</th>\n",
              "      <td>6.421</td>\n",
              "      <td>9.14</td>\n",
              "      <td>17.8</td>\n",
              "      <td>453600</td>\n",
              "      <td>2013-01-10</td>\n",
              "      <td>2015-05-10</td>\n",
              "      <td>2020-10-10</td>\n",
              "      <td>850 days</td>\n",
              "      <td>1980 days</td>\n",
              "      <td>2830 days</td>\n",
              "    </tr>\n",
              "    <tr>\n",
              "      <th>2</th>\n",
              "      <td>7.185</td>\n",
              "      <td>4.03</td>\n",
              "      <td>17.8</td>\n",
              "      <td>728700</td>\n",
              "      <td>2013-01-10</td>\n",
              "      <td>2015-05-10</td>\n",
              "      <td>2020-10-10</td>\n",
              "      <td>850 days</td>\n",
              "      <td>1980 days</td>\n",
              "      <td>2830 days</td>\n",
              "    </tr>\n",
              "    <tr>\n",
              "      <th>3</th>\n",
              "      <td>6.998</td>\n",
              "      <td>2.94</td>\n",
              "      <td>18.7</td>\n",
              "      <td>701400</td>\n",
              "      <td>2013-01-10</td>\n",
              "      <td>2015-05-10</td>\n",
              "      <td>2020-10-10</td>\n",
              "      <td>850 days</td>\n",
              "      <td>1980 days</td>\n",
              "      <td>2830 days</td>\n",
              "    </tr>\n",
              "    <tr>\n",
              "      <th>4</th>\n",
              "      <td>7.147</td>\n",
              "      <td>5.33</td>\n",
              "      <td>18.7</td>\n",
              "      <td>760200</td>\n",
              "      <td>2013-01-10</td>\n",
              "      <td>2015-05-10</td>\n",
              "      <td>2020-10-10</td>\n",
              "      <td>850 days</td>\n",
              "      <td>1980 days</td>\n",
              "      <td>2830 days</td>\n",
              "    </tr>\n",
              "    <tr>\n",
              "      <th>...</th>\n",
              "      <td>...</td>\n",
              "      <td>...</td>\n",
              "      <td>...</td>\n",
              "      <td>...</td>\n",
              "      <td>...</td>\n",
              "      <td>...</td>\n",
              "      <td>...</td>\n",
              "      <td>...</td>\n",
              "      <td>...</td>\n",
              "      <td>...</td>\n",
              "    </tr>\n",
              "    <tr>\n",
              "      <th>484</th>\n",
              "      <td>6.593</td>\n",
              "      <td>9.67</td>\n",
              "      <td>21.0</td>\n",
              "      <td>470400</td>\n",
              "      <td>2013-01-10</td>\n",
              "      <td>2015-05-10</td>\n",
              "      <td>2020-10-10</td>\n",
              "      <td>850 days</td>\n",
              "      <td>1980 days</td>\n",
              "      <td>2830 days</td>\n",
              "    </tr>\n",
              "    <tr>\n",
              "      <th>485</th>\n",
              "      <td>6.120</td>\n",
              "      <td>9.08</td>\n",
              "      <td>21.0</td>\n",
              "      <td>432600</td>\n",
              "      <td>2013-01-10</td>\n",
              "      <td>2015-05-10</td>\n",
              "      <td>2020-10-10</td>\n",
              "      <td>850 days</td>\n",
              "      <td>1980 days</td>\n",
              "      <td>2830 days</td>\n",
              "    </tr>\n",
              "    <tr>\n",
              "      <th>486</th>\n",
              "      <td>6.976</td>\n",
              "      <td>5.64</td>\n",
              "      <td>21.0</td>\n",
              "      <td>501900</td>\n",
              "      <td>2013-01-10</td>\n",
              "      <td>2015-05-10</td>\n",
              "      <td>2020-10-10</td>\n",
              "      <td>850 days</td>\n",
              "      <td>1980 days</td>\n",
              "      <td>2830 days</td>\n",
              "    </tr>\n",
              "    <tr>\n",
              "      <th>487</th>\n",
              "      <td>6.794</td>\n",
              "      <td>6.48</td>\n",
              "      <td>21.0</td>\n",
              "      <td>462000</td>\n",
              "      <td>2013-01-10</td>\n",
              "      <td>2015-05-10</td>\n",
              "      <td>2020-10-10</td>\n",
              "      <td>850 days</td>\n",
              "      <td>1980 days</td>\n",
              "      <td>2830 days</td>\n",
              "    </tr>\n",
              "    <tr>\n",
              "      <th>488</th>\n",
              "      <td>6.030</td>\n",
              "      <td>7.88</td>\n",
              "      <td>21.0</td>\n",
              "      <td>249900</td>\n",
              "      <td>2013-01-10</td>\n",
              "      <td>2015-05-10</td>\n",
              "      <td>2020-10-10</td>\n",
              "      <td>850 days</td>\n",
              "      <td>1980 days</td>\n",
              "      <td>2830 days</td>\n",
              "    </tr>\n",
              "  </tbody>\n",
              "</table>\n",
              "<p>472 rows × 10 columns</p>\n",
              "</div>"
            ],
            "text/plain": [
              "        RM  LSTAT  ...  date2 - date3 (abs)  date3 - date (abs)\n",
              "0    6.575   4.98  ...            1980 days           2830 days\n",
              "1    6.421   9.14  ...            1980 days           2830 days\n",
              "2    7.185   4.03  ...            1980 days           2830 days\n",
              "3    6.998   2.94  ...            1980 days           2830 days\n",
              "4    7.147   5.33  ...            1980 days           2830 days\n",
              "..     ...    ...  ...                  ...                 ...\n",
              "484  6.593   9.67  ...            1980 days           2830 days\n",
              "485  6.120   9.08  ...            1980 days           2830 days\n",
              "486  6.976   5.64  ...            1980 days           2830 days\n",
              "487  6.794   6.48  ...            1980 days           2830 days\n",
              "488  6.030   7.88  ...            1980 days           2830 days\n",
              "\n",
              "[472 rows x 10 columns]"
            ]
          },
          "metadata": {
            "tags": []
          },
          "execution_count": 112
        }
      ]
    },
    {
      "cell_type": "code",
      "metadata": {
        "id": "hmHEG2ikBThR",
        "colab_type": "code",
        "colab": {
          "base_uri": "https://localhost:8080/",
          "height": 521
        },
        "outputId": "e03c5793-1c94-4cba-d88d-46fd9ce2db29"
      },
      "source": [
        "data_wo['date - date2 (abs)'] = abs(data_wo['date'] - data_wo['date2'])\n",
        "data_wo\n",
        "\n"
      ],
      "execution_count": 113,
      "outputs": [
        {
          "output_type": "stream",
          "text": [
            "/usr/local/lib/python3.6/dist-packages/ipykernel_launcher.py:1: SettingWithCopyWarning: \n",
            "A value is trying to be set on a copy of a slice from a DataFrame.\n",
            "Try using .loc[row_indexer,col_indexer] = value instead\n",
            "\n",
            "See the caveats in the documentation: https://pandas.pydata.org/pandas-docs/stable/user_guide/indexing.html#returning-a-view-versus-a-copy\n",
            "  \"\"\"Entry point for launching an IPython kernel.\n"
          ],
          "name": "stderr"
        },
        {
          "output_type": "execute_result",
          "data": {
            "text/html": [
              "<div>\n",
              "<style scoped>\n",
              "    .dataframe tbody tr th:only-of-type {\n",
              "        vertical-align: middle;\n",
              "    }\n",
              "\n",
              "    .dataframe tbody tr th {\n",
              "        vertical-align: top;\n",
              "    }\n",
              "\n",
              "    .dataframe thead th {\n",
              "        text-align: right;\n",
              "    }\n",
              "</style>\n",
              "<table border=\"1\" class=\"dataframe\">\n",
              "  <thead>\n",
              "    <tr style=\"text-align: right;\">\n",
              "      <th></th>\n",
              "      <th>RM</th>\n",
              "      <th>LSTAT</th>\n",
              "      <th>PTRATIO</th>\n",
              "      <th>MEDV</th>\n",
              "      <th>date</th>\n",
              "      <th>date2</th>\n",
              "      <th>date3</th>\n",
              "      <th>date - date2 (abs)</th>\n",
              "      <th>date2 - date3 (abs)</th>\n",
              "      <th>date3 - date (abs)</th>\n",
              "    </tr>\n",
              "  </thead>\n",
              "  <tbody>\n",
              "    <tr>\n",
              "      <th>0</th>\n",
              "      <td>6.575</td>\n",
              "      <td>4.98</td>\n",
              "      <td>15.3</td>\n",
              "      <td>504000</td>\n",
              "      <td>2013-01-10</td>\n",
              "      <td>2015-05-10</td>\n",
              "      <td>2020-10-10</td>\n",
              "      <td>850 days</td>\n",
              "      <td>1980 days</td>\n",
              "      <td>2830 days</td>\n",
              "    </tr>\n",
              "    <tr>\n",
              "      <th>1</th>\n",
              "      <td>6.421</td>\n",
              "      <td>9.14</td>\n",
              "      <td>17.8</td>\n",
              "      <td>453600</td>\n",
              "      <td>2013-01-10</td>\n",
              "      <td>2015-05-10</td>\n",
              "      <td>2020-10-10</td>\n",
              "      <td>850 days</td>\n",
              "      <td>1980 days</td>\n",
              "      <td>2830 days</td>\n",
              "    </tr>\n",
              "    <tr>\n",
              "      <th>2</th>\n",
              "      <td>7.185</td>\n",
              "      <td>4.03</td>\n",
              "      <td>17.8</td>\n",
              "      <td>728700</td>\n",
              "      <td>2013-01-10</td>\n",
              "      <td>2015-05-10</td>\n",
              "      <td>2020-10-10</td>\n",
              "      <td>850 days</td>\n",
              "      <td>1980 days</td>\n",
              "      <td>2830 days</td>\n",
              "    </tr>\n",
              "    <tr>\n",
              "      <th>3</th>\n",
              "      <td>6.998</td>\n",
              "      <td>2.94</td>\n",
              "      <td>18.7</td>\n",
              "      <td>701400</td>\n",
              "      <td>2013-01-10</td>\n",
              "      <td>2015-05-10</td>\n",
              "      <td>2020-10-10</td>\n",
              "      <td>850 days</td>\n",
              "      <td>1980 days</td>\n",
              "      <td>2830 days</td>\n",
              "    </tr>\n",
              "    <tr>\n",
              "      <th>4</th>\n",
              "      <td>7.147</td>\n",
              "      <td>5.33</td>\n",
              "      <td>18.7</td>\n",
              "      <td>760200</td>\n",
              "      <td>2013-01-10</td>\n",
              "      <td>2015-05-10</td>\n",
              "      <td>2020-10-10</td>\n",
              "      <td>850 days</td>\n",
              "      <td>1980 days</td>\n",
              "      <td>2830 days</td>\n",
              "    </tr>\n",
              "    <tr>\n",
              "      <th>...</th>\n",
              "      <td>...</td>\n",
              "      <td>...</td>\n",
              "      <td>...</td>\n",
              "      <td>...</td>\n",
              "      <td>...</td>\n",
              "      <td>...</td>\n",
              "      <td>...</td>\n",
              "      <td>...</td>\n",
              "      <td>...</td>\n",
              "      <td>...</td>\n",
              "    </tr>\n",
              "    <tr>\n",
              "      <th>484</th>\n",
              "      <td>6.593</td>\n",
              "      <td>9.67</td>\n",
              "      <td>21.0</td>\n",
              "      <td>470400</td>\n",
              "      <td>2013-01-10</td>\n",
              "      <td>2015-05-10</td>\n",
              "      <td>2020-10-10</td>\n",
              "      <td>850 days</td>\n",
              "      <td>1980 days</td>\n",
              "      <td>2830 days</td>\n",
              "    </tr>\n",
              "    <tr>\n",
              "      <th>485</th>\n",
              "      <td>6.120</td>\n",
              "      <td>9.08</td>\n",
              "      <td>21.0</td>\n",
              "      <td>432600</td>\n",
              "      <td>2013-01-10</td>\n",
              "      <td>2015-05-10</td>\n",
              "      <td>2020-10-10</td>\n",
              "      <td>850 days</td>\n",
              "      <td>1980 days</td>\n",
              "      <td>2830 days</td>\n",
              "    </tr>\n",
              "    <tr>\n",
              "      <th>486</th>\n",
              "      <td>6.976</td>\n",
              "      <td>5.64</td>\n",
              "      <td>21.0</td>\n",
              "      <td>501900</td>\n",
              "      <td>2013-01-10</td>\n",
              "      <td>2015-05-10</td>\n",
              "      <td>2020-10-10</td>\n",
              "      <td>850 days</td>\n",
              "      <td>1980 days</td>\n",
              "      <td>2830 days</td>\n",
              "    </tr>\n",
              "    <tr>\n",
              "      <th>487</th>\n",
              "      <td>6.794</td>\n",
              "      <td>6.48</td>\n",
              "      <td>21.0</td>\n",
              "      <td>462000</td>\n",
              "      <td>2013-01-10</td>\n",
              "      <td>2015-05-10</td>\n",
              "      <td>2020-10-10</td>\n",
              "      <td>850 days</td>\n",
              "      <td>1980 days</td>\n",
              "      <td>2830 days</td>\n",
              "    </tr>\n",
              "    <tr>\n",
              "      <th>488</th>\n",
              "      <td>6.030</td>\n",
              "      <td>7.88</td>\n",
              "      <td>21.0</td>\n",
              "      <td>249900</td>\n",
              "      <td>2013-01-10</td>\n",
              "      <td>2015-05-10</td>\n",
              "      <td>2020-10-10</td>\n",
              "      <td>850 days</td>\n",
              "      <td>1980 days</td>\n",
              "      <td>2830 days</td>\n",
              "    </tr>\n",
              "  </tbody>\n",
              "</table>\n",
              "<p>472 rows × 10 columns</p>\n",
              "</div>"
            ],
            "text/plain": [
              "        RM  LSTAT  ...  date2 - date3 (abs)  date3 - date (abs)\n",
              "0    6.575   4.98  ...            1980 days           2830 days\n",
              "1    6.421   9.14  ...            1980 days           2830 days\n",
              "2    7.185   4.03  ...            1980 days           2830 days\n",
              "3    6.998   2.94  ...            1980 days           2830 days\n",
              "4    7.147   5.33  ...            1980 days           2830 days\n",
              "..     ...    ...  ...                  ...                 ...\n",
              "484  6.593   9.67  ...            1980 days           2830 days\n",
              "485  6.120   9.08  ...            1980 days           2830 days\n",
              "486  6.976   5.64  ...            1980 days           2830 days\n",
              "487  6.794   6.48  ...            1980 days           2830 days\n",
              "488  6.030   7.88  ...            1980 days           2830 days\n",
              "\n",
              "[472 rows x 10 columns]"
            ]
          },
          "metadata": {
            "tags": []
          },
          "execution_count": 113
        }
      ]
    },
    {
      "cell_type": "code",
      "metadata": {
        "id": "15DPwpPiBe1Z",
        "colab_type": "code",
        "colab": {
          "base_uri": "https://localhost:8080/",
          "height": 521
        },
        "outputId": "b56e0073-cb14-4cb5-f487-4d8f016d81a8"
      },
      "source": [
        "data_wo['date2 - date3 (abs)'] = abs(data_wo['date2'] - data_wo['date3'])\n",
        "data_wo"
      ],
      "execution_count": 114,
      "outputs": [
        {
          "output_type": "stream",
          "text": [
            "/usr/local/lib/python3.6/dist-packages/ipykernel_launcher.py:1: SettingWithCopyWarning: \n",
            "A value is trying to be set on a copy of a slice from a DataFrame.\n",
            "Try using .loc[row_indexer,col_indexer] = value instead\n",
            "\n",
            "See the caveats in the documentation: https://pandas.pydata.org/pandas-docs/stable/user_guide/indexing.html#returning-a-view-versus-a-copy\n",
            "  \"\"\"Entry point for launching an IPython kernel.\n"
          ],
          "name": "stderr"
        },
        {
          "output_type": "execute_result",
          "data": {
            "text/html": [
              "<div>\n",
              "<style scoped>\n",
              "    .dataframe tbody tr th:only-of-type {\n",
              "        vertical-align: middle;\n",
              "    }\n",
              "\n",
              "    .dataframe tbody tr th {\n",
              "        vertical-align: top;\n",
              "    }\n",
              "\n",
              "    .dataframe thead th {\n",
              "        text-align: right;\n",
              "    }\n",
              "</style>\n",
              "<table border=\"1\" class=\"dataframe\">\n",
              "  <thead>\n",
              "    <tr style=\"text-align: right;\">\n",
              "      <th></th>\n",
              "      <th>RM</th>\n",
              "      <th>LSTAT</th>\n",
              "      <th>PTRATIO</th>\n",
              "      <th>MEDV</th>\n",
              "      <th>date</th>\n",
              "      <th>date2</th>\n",
              "      <th>date3</th>\n",
              "      <th>date - date2 (abs)</th>\n",
              "      <th>date2 - date3 (abs)</th>\n",
              "      <th>date3 - date (abs)</th>\n",
              "    </tr>\n",
              "  </thead>\n",
              "  <tbody>\n",
              "    <tr>\n",
              "      <th>0</th>\n",
              "      <td>6.575</td>\n",
              "      <td>4.98</td>\n",
              "      <td>15.3</td>\n",
              "      <td>504000</td>\n",
              "      <td>2013-01-10</td>\n",
              "      <td>2015-05-10</td>\n",
              "      <td>2020-10-10</td>\n",
              "      <td>850 days</td>\n",
              "      <td>1980 days</td>\n",
              "      <td>2830 days</td>\n",
              "    </tr>\n",
              "    <tr>\n",
              "      <th>1</th>\n",
              "      <td>6.421</td>\n",
              "      <td>9.14</td>\n",
              "      <td>17.8</td>\n",
              "      <td>453600</td>\n",
              "      <td>2013-01-10</td>\n",
              "      <td>2015-05-10</td>\n",
              "      <td>2020-10-10</td>\n",
              "      <td>850 days</td>\n",
              "      <td>1980 days</td>\n",
              "      <td>2830 days</td>\n",
              "    </tr>\n",
              "    <tr>\n",
              "      <th>2</th>\n",
              "      <td>7.185</td>\n",
              "      <td>4.03</td>\n",
              "      <td>17.8</td>\n",
              "      <td>728700</td>\n",
              "      <td>2013-01-10</td>\n",
              "      <td>2015-05-10</td>\n",
              "      <td>2020-10-10</td>\n",
              "      <td>850 days</td>\n",
              "      <td>1980 days</td>\n",
              "      <td>2830 days</td>\n",
              "    </tr>\n",
              "    <tr>\n",
              "      <th>3</th>\n",
              "      <td>6.998</td>\n",
              "      <td>2.94</td>\n",
              "      <td>18.7</td>\n",
              "      <td>701400</td>\n",
              "      <td>2013-01-10</td>\n",
              "      <td>2015-05-10</td>\n",
              "      <td>2020-10-10</td>\n",
              "      <td>850 days</td>\n",
              "      <td>1980 days</td>\n",
              "      <td>2830 days</td>\n",
              "    </tr>\n",
              "    <tr>\n",
              "      <th>4</th>\n",
              "      <td>7.147</td>\n",
              "      <td>5.33</td>\n",
              "      <td>18.7</td>\n",
              "      <td>760200</td>\n",
              "      <td>2013-01-10</td>\n",
              "      <td>2015-05-10</td>\n",
              "      <td>2020-10-10</td>\n",
              "      <td>850 days</td>\n",
              "      <td>1980 days</td>\n",
              "      <td>2830 days</td>\n",
              "    </tr>\n",
              "    <tr>\n",
              "      <th>...</th>\n",
              "      <td>...</td>\n",
              "      <td>...</td>\n",
              "      <td>...</td>\n",
              "      <td>...</td>\n",
              "      <td>...</td>\n",
              "      <td>...</td>\n",
              "      <td>...</td>\n",
              "      <td>...</td>\n",
              "      <td>...</td>\n",
              "      <td>...</td>\n",
              "    </tr>\n",
              "    <tr>\n",
              "      <th>484</th>\n",
              "      <td>6.593</td>\n",
              "      <td>9.67</td>\n",
              "      <td>21.0</td>\n",
              "      <td>470400</td>\n",
              "      <td>2013-01-10</td>\n",
              "      <td>2015-05-10</td>\n",
              "      <td>2020-10-10</td>\n",
              "      <td>850 days</td>\n",
              "      <td>1980 days</td>\n",
              "      <td>2830 days</td>\n",
              "    </tr>\n",
              "    <tr>\n",
              "      <th>485</th>\n",
              "      <td>6.120</td>\n",
              "      <td>9.08</td>\n",
              "      <td>21.0</td>\n",
              "      <td>432600</td>\n",
              "      <td>2013-01-10</td>\n",
              "      <td>2015-05-10</td>\n",
              "      <td>2020-10-10</td>\n",
              "      <td>850 days</td>\n",
              "      <td>1980 days</td>\n",
              "      <td>2830 days</td>\n",
              "    </tr>\n",
              "    <tr>\n",
              "      <th>486</th>\n",
              "      <td>6.976</td>\n",
              "      <td>5.64</td>\n",
              "      <td>21.0</td>\n",
              "      <td>501900</td>\n",
              "      <td>2013-01-10</td>\n",
              "      <td>2015-05-10</td>\n",
              "      <td>2020-10-10</td>\n",
              "      <td>850 days</td>\n",
              "      <td>1980 days</td>\n",
              "      <td>2830 days</td>\n",
              "    </tr>\n",
              "    <tr>\n",
              "      <th>487</th>\n",
              "      <td>6.794</td>\n",
              "      <td>6.48</td>\n",
              "      <td>21.0</td>\n",
              "      <td>462000</td>\n",
              "      <td>2013-01-10</td>\n",
              "      <td>2015-05-10</td>\n",
              "      <td>2020-10-10</td>\n",
              "      <td>850 days</td>\n",
              "      <td>1980 days</td>\n",
              "      <td>2830 days</td>\n",
              "    </tr>\n",
              "    <tr>\n",
              "      <th>488</th>\n",
              "      <td>6.030</td>\n",
              "      <td>7.88</td>\n",
              "      <td>21.0</td>\n",
              "      <td>249900</td>\n",
              "      <td>2013-01-10</td>\n",
              "      <td>2015-05-10</td>\n",
              "      <td>2020-10-10</td>\n",
              "      <td>850 days</td>\n",
              "      <td>1980 days</td>\n",
              "      <td>2830 days</td>\n",
              "    </tr>\n",
              "  </tbody>\n",
              "</table>\n",
              "<p>472 rows × 10 columns</p>\n",
              "</div>"
            ],
            "text/plain": [
              "        RM  LSTAT  ...  date2 - date3 (abs)  date3 - date (abs)\n",
              "0    6.575   4.98  ...            1980 days           2830 days\n",
              "1    6.421   9.14  ...            1980 days           2830 days\n",
              "2    7.185   4.03  ...            1980 days           2830 days\n",
              "3    6.998   2.94  ...            1980 days           2830 days\n",
              "4    7.147   5.33  ...            1980 days           2830 days\n",
              "..     ...    ...  ...                  ...                 ...\n",
              "484  6.593   9.67  ...            1980 days           2830 days\n",
              "485  6.120   9.08  ...            1980 days           2830 days\n",
              "486  6.976   5.64  ...            1980 days           2830 days\n",
              "487  6.794   6.48  ...            1980 days           2830 days\n",
              "488  6.030   7.88  ...            1980 days           2830 days\n",
              "\n",
              "[472 rows x 10 columns]"
            ]
          },
          "metadata": {
            "tags": []
          },
          "execution_count": 114
        }
      ]
    },
    {
      "cell_type": "code",
      "metadata": {
        "id": "nepOTa6BD-P6",
        "colab_type": "code",
        "colab": {
          "base_uri": "https://localhost:8080/",
          "height": 521
        },
        "outputId": "80a825a4-9839-4b1e-88bf-551f080377e4"
      },
      "source": [
        "data_wo['date3 - date (abs)'] = abs(data_wo['date3'] - data_wo['date'])\n",
        "data_wo"
      ],
      "execution_count": 115,
      "outputs": [
        {
          "output_type": "stream",
          "text": [
            "/usr/local/lib/python3.6/dist-packages/ipykernel_launcher.py:1: SettingWithCopyWarning: \n",
            "A value is trying to be set on a copy of a slice from a DataFrame.\n",
            "Try using .loc[row_indexer,col_indexer] = value instead\n",
            "\n",
            "See the caveats in the documentation: https://pandas.pydata.org/pandas-docs/stable/user_guide/indexing.html#returning-a-view-versus-a-copy\n",
            "  \"\"\"Entry point for launching an IPython kernel.\n"
          ],
          "name": "stderr"
        },
        {
          "output_type": "execute_result",
          "data": {
            "text/html": [
              "<div>\n",
              "<style scoped>\n",
              "    .dataframe tbody tr th:only-of-type {\n",
              "        vertical-align: middle;\n",
              "    }\n",
              "\n",
              "    .dataframe tbody tr th {\n",
              "        vertical-align: top;\n",
              "    }\n",
              "\n",
              "    .dataframe thead th {\n",
              "        text-align: right;\n",
              "    }\n",
              "</style>\n",
              "<table border=\"1\" class=\"dataframe\">\n",
              "  <thead>\n",
              "    <tr style=\"text-align: right;\">\n",
              "      <th></th>\n",
              "      <th>RM</th>\n",
              "      <th>LSTAT</th>\n",
              "      <th>PTRATIO</th>\n",
              "      <th>MEDV</th>\n",
              "      <th>date</th>\n",
              "      <th>date2</th>\n",
              "      <th>date3</th>\n",
              "      <th>date - date2 (abs)</th>\n",
              "      <th>date2 - date3 (abs)</th>\n",
              "      <th>date3 - date (abs)</th>\n",
              "    </tr>\n",
              "  </thead>\n",
              "  <tbody>\n",
              "    <tr>\n",
              "      <th>0</th>\n",
              "      <td>6.575</td>\n",
              "      <td>4.98</td>\n",
              "      <td>15.3</td>\n",
              "      <td>504000</td>\n",
              "      <td>2013-01-10</td>\n",
              "      <td>2015-05-10</td>\n",
              "      <td>2020-10-10</td>\n",
              "      <td>850 days</td>\n",
              "      <td>1980 days</td>\n",
              "      <td>2830 days</td>\n",
              "    </tr>\n",
              "    <tr>\n",
              "      <th>1</th>\n",
              "      <td>6.421</td>\n",
              "      <td>9.14</td>\n",
              "      <td>17.8</td>\n",
              "      <td>453600</td>\n",
              "      <td>2013-01-10</td>\n",
              "      <td>2015-05-10</td>\n",
              "      <td>2020-10-10</td>\n",
              "      <td>850 days</td>\n",
              "      <td>1980 days</td>\n",
              "      <td>2830 days</td>\n",
              "    </tr>\n",
              "    <tr>\n",
              "      <th>2</th>\n",
              "      <td>7.185</td>\n",
              "      <td>4.03</td>\n",
              "      <td>17.8</td>\n",
              "      <td>728700</td>\n",
              "      <td>2013-01-10</td>\n",
              "      <td>2015-05-10</td>\n",
              "      <td>2020-10-10</td>\n",
              "      <td>850 days</td>\n",
              "      <td>1980 days</td>\n",
              "      <td>2830 days</td>\n",
              "    </tr>\n",
              "    <tr>\n",
              "      <th>3</th>\n",
              "      <td>6.998</td>\n",
              "      <td>2.94</td>\n",
              "      <td>18.7</td>\n",
              "      <td>701400</td>\n",
              "      <td>2013-01-10</td>\n",
              "      <td>2015-05-10</td>\n",
              "      <td>2020-10-10</td>\n",
              "      <td>850 days</td>\n",
              "      <td>1980 days</td>\n",
              "      <td>2830 days</td>\n",
              "    </tr>\n",
              "    <tr>\n",
              "      <th>4</th>\n",
              "      <td>7.147</td>\n",
              "      <td>5.33</td>\n",
              "      <td>18.7</td>\n",
              "      <td>760200</td>\n",
              "      <td>2013-01-10</td>\n",
              "      <td>2015-05-10</td>\n",
              "      <td>2020-10-10</td>\n",
              "      <td>850 days</td>\n",
              "      <td>1980 days</td>\n",
              "      <td>2830 days</td>\n",
              "    </tr>\n",
              "    <tr>\n",
              "      <th>...</th>\n",
              "      <td>...</td>\n",
              "      <td>...</td>\n",
              "      <td>...</td>\n",
              "      <td>...</td>\n",
              "      <td>...</td>\n",
              "      <td>...</td>\n",
              "      <td>...</td>\n",
              "      <td>...</td>\n",
              "      <td>...</td>\n",
              "      <td>...</td>\n",
              "    </tr>\n",
              "    <tr>\n",
              "      <th>484</th>\n",
              "      <td>6.593</td>\n",
              "      <td>9.67</td>\n",
              "      <td>21.0</td>\n",
              "      <td>470400</td>\n",
              "      <td>2013-01-10</td>\n",
              "      <td>2015-05-10</td>\n",
              "      <td>2020-10-10</td>\n",
              "      <td>850 days</td>\n",
              "      <td>1980 days</td>\n",
              "      <td>2830 days</td>\n",
              "    </tr>\n",
              "    <tr>\n",
              "      <th>485</th>\n",
              "      <td>6.120</td>\n",
              "      <td>9.08</td>\n",
              "      <td>21.0</td>\n",
              "      <td>432600</td>\n",
              "      <td>2013-01-10</td>\n",
              "      <td>2015-05-10</td>\n",
              "      <td>2020-10-10</td>\n",
              "      <td>850 days</td>\n",
              "      <td>1980 days</td>\n",
              "      <td>2830 days</td>\n",
              "    </tr>\n",
              "    <tr>\n",
              "      <th>486</th>\n",
              "      <td>6.976</td>\n",
              "      <td>5.64</td>\n",
              "      <td>21.0</td>\n",
              "      <td>501900</td>\n",
              "      <td>2013-01-10</td>\n",
              "      <td>2015-05-10</td>\n",
              "      <td>2020-10-10</td>\n",
              "      <td>850 days</td>\n",
              "      <td>1980 days</td>\n",
              "      <td>2830 days</td>\n",
              "    </tr>\n",
              "    <tr>\n",
              "      <th>487</th>\n",
              "      <td>6.794</td>\n",
              "      <td>6.48</td>\n",
              "      <td>21.0</td>\n",
              "      <td>462000</td>\n",
              "      <td>2013-01-10</td>\n",
              "      <td>2015-05-10</td>\n",
              "      <td>2020-10-10</td>\n",
              "      <td>850 days</td>\n",
              "      <td>1980 days</td>\n",
              "      <td>2830 days</td>\n",
              "    </tr>\n",
              "    <tr>\n",
              "      <th>488</th>\n",
              "      <td>6.030</td>\n",
              "      <td>7.88</td>\n",
              "      <td>21.0</td>\n",
              "      <td>249900</td>\n",
              "      <td>2013-01-10</td>\n",
              "      <td>2015-05-10</td>\n",
              "      <td>2020-10-10</td>\n",
              "      <td>850 days</td>\n",
              "      <td>1980 days</td>\n",
              "      <td>2830 days</td>\n",
              "    </tr>\n",
              "  </tbody>\n",
              "</table>\n",
              "<p>472 rows × 10 columns</p>\n",
              "</div>"
            ],
            "text/plain": [
              "        RM  LSTAT  ...  date2 - date3 (abs)  date3 - date (abs)\n",
              "0    6.575   4.98  ...            1980 days           2830 days\n",
              "1    6.421   9.14  ...            1980 days           2830 days\n",
              "2    7.185   4.03  ...            1980 days           2830 days\n",
              "3    6.998   2.94  ...            1980 days           2830 days\n",
              "4    7.147   5.33  ...            1980 days           2830 days\n",
              "..     ...    ...  ...                  ...                 ...\n",
              "484  6.593   9.67  ...            1980 days           2830 days\n",
              "485  6.120   9.08  ...            1980 days           2830 days\n",
              "486  6.976   5.64  ...            1980 days           2830 days\n",
              "487  6.794   6.48  ...            1980 days           2830 days\n",
              "488  6.030   7.88  ...            1980 days           2830 days\n",
              "\n",
              "[472 rows x 10 columns]"
            ]
          },
          "metadata": {
            "tags": []
          },
          "execution_count": 115
        }
      ]
    },
    {
      "cell_type": "code",
      "metadata": {
        "id": "5SYuu9jVEVAF",
        "colab_type": "code",
        "colab": {}
      },
      "source": [
        ""
      ],
      "execution_count": 115,
      "outputs": []
    }
  ]
}